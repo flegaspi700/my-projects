{
 "cells": [
  {
   "cell_type": "code",
   "execution_count": null,
   "metadata": {},
   "outputs": [],
   "source": [
    "!virtualenv my_env"
   ]
  },
  {
   "cell_type": "code",
   "execution_count": null,
   "metadata": {},
   "outputs": [],
   "source": [
    "!virtualenv -p python3 my_env"
   ]
  },
  {
   "cell_type": "code",
   "execution_count": null,
   "metadata": {},
   "outputs": [],
   "source": [
    "!source my_env/bin/activate"
   ]
  },
  {
   "cell_type": "code",
   "execution_count": null,
   "metadata": {},
   "outputs": [],
   "source": [
    "!gcloud services enable vision.googleapis.com\r\n",
    "\r\n",
    "!export PROJECT_ID=$(gcloud config get-value core/project)\r\n",
    "\r\n",
    "!gcloud iam service-accounts create my-vision-sa \\\r\n",
    "  --display-name \"my vision service account\"\r\n",
    "\r\n",
    "!gcloud iam service-accounts keys create ~/key.json \\\r\n",
    "  --iam-account my-vision-sa@${PROJECT_ID}.iam.gserviceaccount.com\r\n",
    "\r\n",
    "!export GOOGLE_APPLICATION_CREDENTIALS=~/key.json\r\n",
    "\r\n",
    "#verify if Install the Cloud Vision client library for Python\r\n",
    "!pip3 freeze | grep google-cloud-vision\r\n",
    "google-cloud-vision==2.0.0\r\n",
    "\r\n",
    "!pip3 install -U pip google-cloud-vision\r\n",
    "\r\n",
    "#Confirm the client library can be imported without issue like the below, and then you're ready to use the Vision API from real code!\r\n",
    "!python3 -c \"import google.cloud.vision\""
   ]
  },
  {
   "cell_type": "code",
   "execution_count": null,
   "metadata": {},
   "outputs": [],
   "source": [
    "from __future__ import print_function\r\n",
    "from google.cloud import vision\r\n",
    "\r\n",
    "image_uri = 'gs://cloud-samples-data/vision/using_curl/shanghai.jpeg'\r\n",
    "\r\n",
    "client = vision.ImageAnnotatorClient()\r\n",
    "image = vision.Image()\r\n",
    "image.source.image_uri = image_uri\r\n",
    "\r\n",
    "response = client.label_detection(image=image)\r\n",
    "\r\n",
    "print('Labels (and confidence score):')\r\n",
    "print('=' * 30)\r\n",
    "for label in response.label_annotations:\r\n",
    "    print(label.description, '(%.2f%%)' % (label.score*100.))"
   ]
  }
 ],
 "metadata": {
  "kernelspec": {
   "display_name": "Python 3.9.1 64-bit",
   "name": "python391jvsc74a57bd08f0e6e8876776058453f48ad7c7dcdebdb8994a74dd96d3c38b5ba45b7b9008d"
  },
  "language_info": {
   "codemirror_mode": {
    "name": "ipython",
    "version": 3
   },
   "file_extension": ".py",
   "mimetype": "text/x-python",
   "name": "python",
   "nbconvert_exporter": "python",
   "pygments_lexer": "ipython3",
   "version": "3.9.1"
  },
  "orig_nbformat": 2
 },
 "nbformat": 4,
 "nbformat_minor": 2
}