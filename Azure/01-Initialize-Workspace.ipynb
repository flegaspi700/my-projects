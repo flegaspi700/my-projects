{
 "cells": [
  {
   "cell_type": "code",
   "execution_count": 6,
   "metadata": {},
   "outputs": [
    {
     "name": "stdout",
     "output_type": "stream",
     "text": [
      "Ready to use Azure ML 1.1.5\n"
     ]
    }
   ],
   "source": [
    "#https://docs.microsoft.com/en-us/python/api/azureml-core/azureml.core.workspace.workspace?view=azure-ml-py\r\n",
    "#https://docs.microsoft.com/en-us/python/api/overview/azure/ml/?view=azure-ml-py\r\n",
    "#https://docs.microsoft.com/en-us/azure/machine-learning/how-to-manage-workspace?tabs=python#create-a-workspace\r\n",
    "#https://docs.microsoft.com/en-us/azure/machine-learning/reference-azure-machine-learning-cli\r\n",
    "\r\n",
    "#CLI\r\n",
    "#az config set auto-upgrade.enable=yes\r\n",
    "#az extension update -n azure-cli-ml\r\n",
    "#pip install azureml.core\r\n",
    "#pip install azure.cli  \r\n",
    "import azureml.core\r\n",
    "\r\n",
    "print(\"Ready to use Azure ML\", azureml.core.VERSION)"
   ]
  },
  {
   "cell_type": "code",
   "execution_count": 8,
   "metadata": {},
   "outputs": [],
   "source": [
    "#create workspace\r\n",
    "from azureml.core import Workspace\r\n",
    "#from azureml.core.authentication import InteractiveLoginAuthentication\r\n",
    "from azureml.core.authentication import AzureCliAuthentication\r\n",
    "from azure.mgmt.resource import ResourceManagementClient\r\n",
    "from decouple import config\r\n",
    "\r\n",
    "cli_auth = AzureCliAuthentication()\r\n",
    "\r\n",
    "\r\n",
    "subscription_id = config('AZURE_SUBSCRIPTION_ID')\r\n",
    "\r\n",
    "resource_client = ResourceManagementClient(cli_auth, subscription_id)\r\n",
    "\r\n",
    "# Provision the resource group.\r\n",
    "rg_result = resource_client.resource_groups.create_or_update(\r\n",
    "    \"PythonAzureExample-rg\",\r\n",
    "    {\r\n",
    "        \"location\": \"eastus\"\r\n",
    "    }\r\n",
    ")\r\n",
    "\r\n",
    "print(f\"Provisioned resource group {rg_result.name} in the {rg_result.location} region\")\r\n"
   ]
  },
  {
   "cell_type": "code",
   "execution_count": null,
   "metadata": {},
   "outputs": [],
   "source": [
    "ws = Workspace.create(name='pedok-ml-ws',\r\n",
    "                        subscription_id=subscription_id,\r\n",
    "                        resource_group=rg_result.name,\r\n",
    "                        create_resource_group=False,\r\n",
    "                        location='eastus',\r\n",
    "                        auth=cli_auth)\r\n",
    "\r\n",
    "ws.write_config(path=\"./data\", file_name=\"ws_config.json\")"
   ]
  },
  {
   "cell_type": "code",
   "execution_count": 10,
   "metadata": {},
   "outputs": [],
   "source": [
    "delete_async_operation = resource_client.resource_groups.delete(rg_result.name)\r\n",
    "#delete_async_operation = resource_client.resource_groups.delete('pedok-ml-rg') #client.resource_groups.delete('azure-sample-group')\r\n",
    "delete_async_operation.wait()"
   ]
  }
 ],
 "metadata": {
  "kernelspec": {
   "display_name": "Python 3.9.1 64-bit",
   "name": "python391jvsc74a57bd08f0e6e8876776058453f48ad7c7dcdebdb8994a74dd96d3c38b5ba45b7b9008d"
  },
  "language_info": {
   "codemirror_mode": {
    "name": "ipython",
    "version": 3
   },
   "file_extension": ".py",
   "mimetype": "text/x-python",
   "name": "python",
   "nbconvert_exporter": "python",
   "pygments_lexer": "ipython3",
   "version": "3.9.1"
  },
  "orig_nbformat": 2
 },
 "nbformat": 4,
 "nbformat_minor": 2
}