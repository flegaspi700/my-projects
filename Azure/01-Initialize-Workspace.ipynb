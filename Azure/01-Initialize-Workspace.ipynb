{
 "cells": [
  {
   "cell_type": "code",
   "execution_count": null,
   "metadata": {},
   "outputs": [],
   "source": [
    "#https://docs.microsoft.com/en-us/python/api/azureml-core/azureml.core.workspace.workspace?view=azure-ml-py\r\n",
    "#https://docs.microsoft.com/en-us/python/api/overview/azure/ml/?view=azure-ml-py\r\n",
    "#https://docs.microsoft.com/en-us/azure/machine-learning/how-to-manage-workspace?tabs=python#create-a-workspace\r\n",
    "\r\n",
    "#CLI\r\n",
    "#az config set auto-upgrade.enable=yes\r\n",
    "#az extension update -n azure-cli-ml\r\n",
    "import azureml.core\r\n",
    "\r\n",
    "print(\"Ready to use Azure ML\", azureml.core.VERSION)"
   ]
  },
  {
   "cell_type": "code",
   "execution_count": null,
   "metadata": {},
   "outputs": [],
   "source": [
    "#from azureml.core import Workspace\r\n",
    "#from azureml.core.authentication import InteractiveLoginAuthentication\r\n",
    "#from azureml.core.authentication import AzureCliAuthentication\r\n",
    "\r\n",
    "#Workspace.list('27549634-3f0f-4850-8683-2ee39f587023')"
   ]
  },
  {
   "cell_type": "code",
   "execution_count": null,
   "metadata": {},
   "outputs": [],
   "source": [
    "#create workspace\r\n",
    "#from azureml.core import Workspace\r\n",
    "#from azureml.core.authentication import InteractiveLoginAuthentication\r\n",
    "#from azureml.core.authentication import AzureCliAuthentication\r\n",
    "\r\n",
    "\r\n",
    "#cli_auth = AzureCliAuthentication()\r\n",
    "#interactive_auth = InteractiveLoginAuthentication(tenant_id=\"b089a557-1e06-49de-aec7-ed20316b726a\", force=True)\r\n",
    "\r\n",
    "#ws = Workspace.create(name='pedok-ml-ws',\r\n",
    "#                        subscription_id='27549634-3f0f-4850-8683-2ee39f587023',\r\n",
    "#                        resource_group='pedok-ml-rg',\r\n",
    "#                        create_resource_group=True,\r\n",
    "#                        location='eastus',\r\n",
    "#                        auth=interactive_auth)\r\n",
    "\r\n",
    "#ws.write_config(path=\"./file-path\", file_name=\"ws_config.json\")"
   ]
  },
  {
   "cell_type": "code",
   "execution_count": null,
   "metadata": {},
   "outputs": [],
   "source": [
    "#https://docs.microsoft.com/en-us/azure/machine-learning/reference-azure-machine-learning-cli\r\n",
    "\r\n",
    "#login\r\n",
    "!az login --allow-no-subscriptions"
   ]
  },
  {
   "cell_type": "code",
   "execution_count": null,
   "metadata": {},
   "outputs": [],
   "source": [
    "#Create resource group\r\n",
    "!az group create --name pedok-ml-rg2 --location eastus"
   ]
  },
  {
   "cell_type": "code",
   "execution_count": null,
   "metadata": {},
   "outputs": [],
   "source": [
    "#Create ML workspace\r\n",
    "!az ml workspace create -w pedok-ml-ws2 -g pedok-ml-rg2"
   ]
  },
  {
   "cell_type": "code",
   "execution_count": null,
   "metadata": {},
   "outputs": [],
   "source": [
    "from azureml.core import Workspace\r\n",
    "ws = Workspace.get(name=\"pedok-ml-ws2\", subscription_id='27549634-3f0f-4850-8683-2ee39f587023', resource_group='pedok-ml-rg2')"
   ]
  },
  {
   "cell_type": "markdown",
   "metadata": {},
   "source": [
    "Create compute engine\r\n",
    "Create clean up steps\r\n",
    "error when running via Python - Could not retrieve user token. Please run 'az login'\r\n"
   ]
  }
 ],
 "metadata": {
  "kernelspec": {
   "display_name": "Python 3.9.1 64-bit",
   "name": "python391jvsc74a57bd08f0e6e8876776058453f48ad7c7dcdebdb8994a74dd96d3c38b5ba45b7b9008d"
  },
  "language_info": {
   "codemirror_mode": {
    "name": "ipython",
    "version": 3
   },
   "file_extension": ".py",
   "mimetype": "text/x-python",
   "name": "python",
   "nbconvert_exporter": "python",
   "pygments_lexer": "ipython3",
   "version": "3.9.1"
  },
  "orig_nbformat": 2
 },
 "nbformat": 4,
 "nbformat_minor": 2
}