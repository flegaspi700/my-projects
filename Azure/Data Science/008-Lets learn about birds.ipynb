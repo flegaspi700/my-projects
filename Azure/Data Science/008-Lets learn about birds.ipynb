{
 "cells": [
  {
   "cell_type": "code",
   "execution_count": null,
   "metadata": {},
   "outputs": [],
   "source": [
    "import pandas as pd\n",
    "import matplotlib.pyplot as plt\n",
    "\n",
    "birds = pd.read_csv('data/birds.csv')\n",
    "birds.head()"
   ]
  },
  {
   "cell_type": "code",
   "execution_count": null,
   "metadata": {},
   "outputs": [],
   "source": [
    "plt.rcParams['figure.facecolor'] = 'white'\n",
    "\n",
    "wingspan = birds['MaxWingspan']\n",
    "\n",
    "wingspan.plot()\n"
   ]
  },
  {
   "cell_type": "code",
   "execution_count": null,
   "metadata": {},
   "outputs": [],
   "source": [
    "\n",
    "plt.title('Max Wingspan in Centimeters')\n",
    "plt.ylabel('Wingspan (CM)')\n",
    "plt.xlabel('Birds')\n",
    "plt.xticks(rotation=45)\n",
    "x = birds['Name'] \n",
    "y = birds['MaxWingspan']\n",
    "\n",
    "plt.plot(x, y)\n",
    "\n",
    "plt.show()\n"
   ]
  },
  {
   "cell_type": "code",
   "execution_count": null,
   "metadata": {},
   "outputs": [],
   "source": [
    "\n",
    "plt.title('Max Wingspan in Centimeters')\n",
    "plt.ylabel('Wingspan (CM)')\n",
    "plt.tick_params(axis='both',which='both',labelbottom=False,bottom=False)\n",
    "\n",
    "for i in range(len(birds)):\n",
    "    x = birds['Name'][i]\n",
    "    y = birds['MaxWingspan'][i]\n",
    "    plt.plot(x, y, 'bo')\n",
    "    if birds['MaxWingspan'][i] > 500:\n",
    "        plt.text(x, y * (1 - 0.05), birds['Name'][i], fontsize=12)\n",
    "    \n",
    "plt.show()"
   ]
  },
  {
   "cell_type": "code",
   "execution_count": null,
   "metadata": {},
   "outputs": [],
   "source": [
    "plt.title('Max Wingspan in Centimeters')\n",
    "plt.ylabel('Wingspan (CM)')\n",
    "plt.xlabel('Birds')\n",
    "plt.tick_params(axis='both',which='both',labelbottom=False,bottom=False)\n",
    "for i in range(len(birds)):\n",
    "    x = birds['Name'][i]\n",
    "    y = birds['MaxWingspan'][i]\n",
    "    if birds['Name'][i] not in ['Bald eagle', 'Prairie falcon']:\n",
    "        plt.plot(x, y, 'bo')\n",
    "plt.show()"
   ]
  },
  {
   "cell_type": "code",
   "execution_count": null,
   "metadata": {},
   "outputs": [],
   "source": [
    "birds.plot(x='Category',\n",
    "        kind='bar',\n",
    "        stacked=True,\n",
    "        title='Birds of Minnesota')"
   ]
  },
  {
   "cell_type": "code",
   "execution_count": null,
   "metadata": {},
   "outputs": [],
   "source": [
    "category_count = birds.value_counts(birds['Category'].values, sort=True)\n",
    "plt.rcParams['figure.figsize'] = [6, 12]\n",
    "category_count.plot.barh()"
   ]
  },
  {
   "cell_type": "code",
   "execution_count": null,
   "metadata": {},
   "outputs": [],
   "source": [
    "maxlength = birds['MaxLength']\n",
    "plt.barh(y=birds['Category'], width=maxlength)\n",
    "plt.rcParams['figure.figsize'] = [6, 12]\n",
    "plt.show()"
   ]
  },
  {
   "cell_type": "code",
   "execution_count": null,
   "metadata": {},
   "outputs": [],
   "source": [
    "minLength = birds['MinLength']\n",
    "maxLength = birds['MaxLength']\n",
    "category = birds['Category']\n",
    "\n",
    "plt.barh(category, maxLength)\n",
    "plt.barh(category, minLength)\n",
    "\n",
    "plt.show()"
   ]
  },
  {
   "cell_type": "code",
   "execution_count": null,
   "metadata": {},
   "outputs": [],
   "source": []
  }
 ],
 "metadata": {
  "interpreter": {
   "hash": "8f0e6e8876776058453f48ad7c7dcdebdb8994a74dd96d3c38b5ba45b7b9008d"
  },
  "kernelspec": {
   "display_name": "Python 3.9.1 64-bit",
   "language": "python",
   "name": "python3"
  },
  "language_info": {
   "codemirror_mode": {
    "name": "ipython",
    "version": 3
   },
   "file_extension": ".py",
   "mimetype": "text/x-python",
   "name": "python",
   "nbconvert_exporter": "python",
   "pygments_lexer": "ipython3",
   "version": "3.10.1"
  },
  "orig_nbformat": 4
 },
 "nbformat": 4,
 "nbformat_minor": 2
}
