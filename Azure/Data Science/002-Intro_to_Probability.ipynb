{
 "cells": [
  {
   "cell_type": "markdown",
   "metadata": {},
   "source": [
    "# Introduction to Probability and Statistics\n",
    "|\n",
    "In this notebook, we will play around with some of the concepts we have previously discussed. Many concepts from probability and statistics are well-represented in major libraries for data processing in Python, such as `numpy` and `pandas`."
   ]
  },
  {
   "cell_type": "code",
   "execution_count": 1,
   "metadata": {},
   "outputs": [],
   "source": [
    "import numpy as np # linear algebra\n",
    "import pandas as pd # data processing, CSV file I/O (e.g. pd.read_csv)\n",
    "import random # random number generation\n",
    "import matplotlib.pyplot as plt # this is used for the plot the graph"
   ]
  },
  {
   "cell_type": "markdown",
   "metadata": {},
   "source": [
    "\n",
    "## Random Variables and Distributions\n",
    "\n",
    "Let's start with drawing a sample of 30 variables from a uniform disribution from 0 to 9. We will also compute mean and variance."
   ]
  },
  {
   "cell_type": "code",
   "execution_count": 2,
   "metadata": {},
   "outputs": [
    {
     "name": "stdout",
     "output_type": "stream",
     "text": [
      "Sample: [18, 14, 8, 20, 0, 10, 7, 19, 18, 10, 9, 19, 6, 13, 2, 17, 11, 7, 20, 20, 4, 2, 9, 18, 4, 0, 10, 13, 17, 4]\n",
      "Mean = 10.966666666666667\n",
      "Variance = 41.16555555555556\n"
     ]
    }
   ],
   "source": [
    "sample = [ random.randint(0,20) for _ in range(30) ] # generate 30 random numbers between 0 and 20\n",
    "print(f\"Sample: {sample}\") \n",
    "print(f\"Mean = {np.mean(sample)}\")\n",
    "print(f\"Variance = {np.var(sample)}\")"
   ]
  },
  {
   "cell_type": "markdown",
   "metadata": {},
   "source": [
    "To visually estimate how many different values are there in the sample, we can plot the **histogram**:"
   ]
  },
  {
   "cell_type": "code",
   "execution_count": 3,
   "metadata": {},
   "outputs": [
    {
     "data": {
      "image/png": "[encoded data removed]",
      "text/plain": [
       "<Figure size 432x288 with 1 Axes>"
      ]
     },
     "metadata": {
      "needs_background": "light"
     },
     "output_type": "display_data"
    }
   ],
   "source": [
    "plt.hist(sample)\n",
    "plt.show()"
   ]
  },
  {
   "cell_type": "markdown",
   "metadata": {},
   "source": [
    "## Analyzing Real Data\n",
    "\n",
    "Mean and variance are very important when analyzing real-world data. Let's load the data about baseball players from [SOCR MLB Height/Weight Data](http://wiki.stat.ucla.edu/socr/index.php/SOCR_Data_MLB_HeightsWeights)"
   ]
  },
  {
   "cell_type": "code",
   "execution_count": 4,
   "metadata": {},
   "outputs": [
    {
     "data": {
      "text/html": [
       "<div>\n",
       "<style scoped>\n",
       "    .dataframe tbody tr th:only-of-type {\n",
       "        vertical-align: middle;\n",
       "    }\n",
       "\n",
       "    .dataframe tbody tr th {\n",
       "        vertical-align: top;\n",
       "    }\n",
       "\n",
       "    .dataframe thead th {\n",
       "        text-align: right;\n",
       "    }\n",
       "</style>\n",
       "<table border=\"1\" class=\"dataframe\">\n",
       "  <thead>\n",
       "    <tr style=\"text-align: right;\">\n",
       "      <th></th>\n",
       "      <th>Name</th>\n",
       "      <th>Team</th>\n",
       "      <th>Role</th>\n",
       "      <th>Height</th>\n",
       "      <th>Weight</th>\n",
       "      <th>Age</th>\n",
       "    </tr>\n",
       "  </thead>\n",
       "  <tbody>\n",
       "    <tr>\n",
       "      <th>0</th>\n",
       "      <td>Adam_Donachie</td>\n",
       "      <td>BAL</td>\n",
       "      <td>Catcher</td>\n",
       "      <td>74</td>\n",
       "      <td>180.0</td>\n",
       "      <td>22.99</td>\n",
       "    </tr>\n",
       "    <tr>\n",
       "      <th>1</th>\n",
       "      <td>Paul_Bako</td>\n",
       "      <td>BAL</td>\n",
       "      <td>Catcher</td>\n",
       "      <td>74</td>\n",
       "      <td>215.0</td>\n",
       "      <td>34.69</td>\n",
       "    </tr>\n",
       "    <tr>\n",
       "      <th>2</th>\n",
       "      <td>Ramon_Hernandez</td>\n",
       "      <td>BAL</td>\n",
       "      <td>Catcher</td>\n",
       "      <td>72</td>\n",
       "      <td>210.0</td>\n",
       "      <td>30.78</td>\n",
       "    </tr>\n",
       "    <tr>\n",
       "      <th>3</th>\n",
       "      <td>Kevin_Millar</td>\n",
       "      <td>BAL</td>\n",
       "      <td>First_Baseman</td>\n",
       "      <td>72</td>\n",
       "      <td>210.0</td>\n",
       "      <td>35.43</td>\n",
       "    </tr>\n",
       "    <tr>\n",
       "      <th>4</th>\n",
       "      <td>Chris_Gomez</td>\n",
       "      <td>BAL</td>\n",
       "      <td>First_Baseman</td>\n",
       "      <td>73</td>\n",
       "      <td>188.0</td>\n",
       "      <td>35.71</td>\n",
       "    </tr>\n",
       "    <tr>\n",
       "      <th>...</th>\n",
       "      <td>...</td>\n",
       "      <td>...</td>\n",
       "      <td>...</td>\n",
       "      <td>...</td>\n",
       "      <td>...</td>\n",
       "      <td>...</td>\n",
       "    </tr>\n",
       "    <tr>\n",
       "      <th>1029</th>\n",
       "      <td>Brad_Thompson</td>\n",
       "      <td>STL</td>\n",
       "      <td>Relief_Pitcher</td>\n",
       "      <td>73</td>\n",
       "      <td>190.0</td>\n",
       "      <td>25.08</td>\n",
       "    </tr>\n",
       "    <tr>\n",
       "      <th>1030</th>\n",
       "      <td>Tyler_Johnson</td>\n",
       "      <td>STL</td>\n",
       "      <td>Relief_Pitcher</td>\n",
       "      <td>74</td>\n",
       "      <td>180.0</td>\n",
       "      <td>25.73</td>\n",
       "    </tr>\n",
       "    <tr>\n",
       "      <th>1031</th>\n",
       "      <td>Chris_Narveson</td>\n",
       "      <td>STL</td>\n",
       "      <td>Relief_Pitcher</td>\n",
       "      <td>75</td>\n",
       "      <td>205.0</td>\n",
       "      <td>25.19</td>\n",
       "    </tr>\n",
       "    <tr>\n",
       "      <th>1032</th>\n",
       "      <td>Randy_Keisler</td>\n",
       "      <td>STL</td>\n",
       "      <td>Relief_Pitcher</td>\n",
       "      <td>75</td>\n",
       "      <td>190.0</td>\n",
       "      <td>31.01</td>\n",
       "    </tr>\n",
       "    <tr>\n",
       "      <th>1033</th>\n",
       "      <td>Josh_Kinney</td>\n",
       "      <td>STL</td>\n",
       "      <td>Relief_Pitcher</td>\n",
       "      <td>73</td>\n",
       "      <td>195.0</td>\n",
       "      <td>27.92</td>\n",
       "    </tr>\n",
       "  </tbody>\n",
       "</table>\n",
       "<p>1034 rows × 6 columns</p>\n",
       "</div>"
      ],
      "text/plain": [
       "                 Name Team            Role  Height  Weight    Age\n",
       "0       Adam_Donachie  BAL         Catcher      74   180.0  22.99\n",
       "1           Paul_Bako  BAL         Catcher      74   215.0  34.69\n",
       "2     Ramon_Hernandez  BAL         Catcher      72   210.0  30.78\n",
       "3        Kevin_Millar  BAL   First_Baseman      72   210.0  35.43\n",
       "4         Chris_Gomez  BAL   First_Baseman      73   188.0  35.71\n",
       "...               ...  ...             ...     ...     ...    ...\n",
       "1029    Brad_Thompson  STL  Relief_Pitcher      73   190.0  25.08\n",
       "1030    Tyler_Johnson  STL  Relief_Pitcher      74   180.0  25.73\n",
       "1031   Chris_Narveson  STL  Relief_Pitcher      75   205.0  25.19\n",
       "1032    Randy_Keisler  STL  Relief_Pitcher      75   190.0  31.01\n",
       "1033      Josh_Kinney  STL  Relief_Pitcher      73   195.0  27.92\n",
       "\n",
       "[1034 rows x 6 columns]"
      ]
     },
     "execution_count": 4,
     "metadata": {},
     "output_type": "execute_result"
    }
   ],
   "source": [
    "df = pd.read_csv(\"data/SOCR_MLB.tsv\",sep='\\t',header=None,names=['Name','Team','Role','Height','Weight','Age']) # read the data file into a dataframe object create header\n",
    "df"
   ]
  },
  {
   "cell_type": "markdown",
   "metadata": {},
   "source": [
    "> We are using a package called **Pandas** here for data analysis. We will talk more about Pandas and working with data in Python later in this course.\n",
    "\n",
    "Let's compute average values for age, height and weight:"
   ]
  },
  {
   "cell_type": "code",
   "execution_count": 5,
   "metadata": {},
   "outputs": [
    {
     "data": {
      "text/html": [
       "<div>\n",
       "<style scoped>\n",
       "    .dataframe tbody tr th:only-of-type {\n",
       "        vertical-align: middle;\n",
       "    }\n",
       "\n",
       "    .dataframe tbody tr th {\n",
       "        vertical-align: top;\n",
       "    }\n",
       "\n",
       "    .dataframe thead th {\n",
       "        text-align: right;\n",
       "    }\n",
       "</style>\n",
       "<table border=\"1\" class=\"dataframe\">\n",
       "  <thead>\n",
       "    <tr style=\"text-align: right;\">\n",
       "      <th></th>\n",
       "      <th>Name</th>\n",
       "      <th>Team</th>\n",
       "      <th>Role</th>\n",
       "      <th>Height</th>\n",
       "      <th>Weight</th>\n",
       "      <th>Age</th>\n",
       "    </tr>\n",
       "  </thead>\n",
       "  <tbody>\n",
       "    <tr>\n",
       "      <th>0</th>\n",
       "      <td>Adam_Donachie</td>\n",
       "      <td>BAL</td>\n",
       "      <td>Catcher</td>\n",
       "      <td>74</td>\n",
       "      <td>180.0</td>\n",
       "      <td>22.99</td>\n",
       "    </tr>\n",
       "    <tr>\n",
       "      <th>1</th>\n",
       "      <td>Paul_Bako</td>\n",
       "      <td>BAL</td>\n",
       "      <td>Catcher</td>\n",
       "      <td>74</td>\n",
       "      <td>215.0</td>\n",
       "      <td>34.69</td>\n",
       "    </tr>\n",
       "    <tr>\n",
       "      <th>2</th>\n",
       "      <td>Ramon_Hernandez</td>\n",
       "      <td>BAL</td>\n",
       "      <td>Catcher</td>\n",
       "      <td>72</td>\n",
       "      <td>210.0</td>\n",
       "      <td>30.78</td>\n",
       "    </tr>\n",
       "    <tr>\n",
       "      <th>3</th>\n",
       "      <td>Kevin_Millar</td>\n",
       "      <td>BAL</td>\n",
       "      <td>First_Baseman</td>\n",
       "      <td>72</td>\n",
       "      <td>210.0</td>\n",
       "      <td>35.43</td>\n",
       "    </tr>\n",
       "    <tr>\n",
       "      <th>4</th>\n",
       "      <td>Chris_Gomez</td>\n",
       "      <td>BAL</td>\n",
       "      <td>First_Baseman</td>\n",
       "      <td>73</td>\n",
       "      <td>188.0</td>\n",
       "      <td>35.71</td>\n",
       "    </tr>\n",
       "    <tr>\n",
       "      <th>5</th>\n",
       "      <td>Brian_Roberts</td>\n",
       "      <td>BAL</td>\n",
       "      <td>Second_Baseman</td>\n",
       "      <td>69</td>\n",
       "      <td>176.0</td>\n",
       "      <td>29.39</td>\n",
       "    </tr>\n",
       "    <tr>\n",
       "      <th>6</th>\n",
       "      <td>Miguel_Tejada</td>\n",
       "      <td>BAL</td>\n",
       "      <td>Shortstop</td>\n",
       "      <td>69</td>\n",
       "      <td>209.0</td>\n",
       "      <td>30.77</td>\n",
       "    </tr>\n",
       "    <tr>\n",
       "      <th>7</th>\n",
       "      <td>Melvin_Mora</td>\n",
       "      <td>BAL</td>\n",
       "      <td>Third_Baseman</td>\n",
       "      <td>71</td>\n",
       "      <td>200.0</td>\n",
       "      <td>35.07</td>\n",
       "    </tr>\n",
       "    <tr>\n",
       "      <th>8</th>\n",
       "      <td>Aubrey_Huff</td>\n",
       "      <td>BAL</td>\n",
       "      <td>Third_Baseman</td>\n",
       "      <td>76</td>\n",
       "      <td>231.0</td>\n",
       "      <td>30.19</td>\n",
       "    </tr>\n",
       "    <tr>\n",
       "      <th>9</th>\n",
       "      <td>Adam_Stern</td>\n",
       "      <td>BAL</td>\n",
       "      <td>Outfielder</td>\n",
       "      <td>71</td>\n",
       "      <td>180.0</td>\n",
       "      <td>27.05</td>\n",
       "    </tr>\n",
       "    <tr>\n",
       "      <th>10</th>\n",
       "      <td>Jeff_Fiorentino</td>\n",
       "      <td>BAL</td>\n",
       "      <td>Outfielder</td>\n",
       "      <td>73</td>\n",
       "      <td>188.0</td>\n",
       "      <td>23.88</td>\n",
       "    </tr>\n",
       "    <tr>\n",
       "      <th>11</th>\n",
       "      <td>Freddie_Bynum</td>\n",
       "      <td>BAL</td>\n",
       "      <td>Outfielder</td>\n",
       "      <td>73</td>\n",
       "      <td>180.0</td>\n",
       "      <td>26.96</td>\n",
       "    </tr>\n",
       "    <tr>\n",
       "      <th>12</th>\n",
       "      <td>Nick_Markakis</td>\n",
       "      <td>BAL</td>\n",
       "      <td>Outfielder</td>\n",
       "      <td>74</td>\n",
       "      <td>185.0</td>\n",
       "      <td>23.29</td>\n",
       "    </tr>\n",
       "    <tr>\n",
       "      <th>13</th>\n",
       "      <td>Brandon_Fahey</td>\n",
       "      <td>BAL</td>\n",
       "      <td>Outfielder</td>\n",
       "      <td>74</td>\n",
       "      <td>160.0</td>\n",
       "      <td>26.11</td>\n",
       "    </tr>\n",
       "    <tr>\n",
       "      <th>14</th>\n",
       "      <td>Corey_Patterson</td>\n",
       "      <td>BAL</td>\n",
       "      <td>Outfielder</td>\n",
       "      <td>69</td>\n",
       "      <td>180.0</td>\n",
       "      <td>27.55</td>\n",
       "    </tr>\n",
       "    <tr>\n",
       "      <th>15</th>\n",
       "      <td>Jay_Payton</td>\n",
       "      <td>BAL</td>\n",
       "      <td>Outfielder</td>\n",
       "      <td>70</td>\n",
       "      <td>185.0</td>\n",
       "      <td>34.27</td>\n",
       "    </tr>\n",
       "    <tr>\n",
       "      <th>16</th>\n",
       "      <td>Jay_Gibbons</td>\n",
       "      <td>BAL</td>\n",
       "      <td>Designated_Hitter</td>\n",
       "      <td>72</td>\n",
       "      <td>197.0</td>\n",
       "      <td>30.00</td>\n",
       "    </tr>\n",
       "    <tr>\n",
       "      <th>17</th>\n",
       "      <td>Erik_Bedard</td>\n",
       "      <td>BAL</td>\n",
       "      <td>Starting_Pitcher</td>\n",
       "      <td>73</td>\n",
       "      <td>189.0</td>\n",
       "      <td>27.99</td>\n",
       "    </tr>\n",
       "    <tr>\n",
       "      <th>18</th>\n",
       "      <td>Hayden_Penn</td>\n",
       "      <td>BAL</td>\n",
       "      <td>Starting_Pitcher</td>\n",
       "      <td>75</td>\n",
       "      <td>185.0</td>\n",
       "      <td>22.38</td>\n",
       "    </tr>\n",
       "    <tr>\n",
       "      <th>19</th>\n",
       "      <td>Adam_Loewen</td>\n",
       "      <td>BAL</td>\n",
       "      <td>Starting_Pitcher</td>\n",
       "      <td>78</td>\n",
       "      <td>219.0</td>\n",
       "      <td>22.89</td>\n",
       "    </tr>\n",
       "  </tbody>\n",
       "</table>\n",
       "</div>"
      ],
      "text/plain": [
       "               Name Team               Role  Height  Weight    Age\n",
       "0     Adam_Donachie  BAL            Catcher      74   180.0  22.99\n",
       "1         Paul_Bako  BAL            Catcher      74   215.0  34.69\n",
       "2   Ramon_Hernandez  BAL            Catcher      72   210.0  30.78\n",
       "3      Kevin_Millar  BAL      First_Baseman      72   210.0  35.43\n",
       "4       Chris_Gomez  BAL      First_Baseman      73   188.0  35.71\n",
       "5     Brian_Roberts  BAL     Second_Baseman      69   176.0  29.39\n",
       "6     Miguel_Tejada  BAL          Shortstop      69   209.0  30.77\n",
       "7       Melvin_Mora  BAL      Third_Baseman      71   200.0  35.07\n",
       "8       Aubrey_Huff  BAL      Third_Baseman      76   231.0  30.19\n",
       "9        Adam_Stern  BAL         Outfielder      71   180.0  27.05\n",
       "10  Jeff_Fiorentino  BAL         Outfielder      73   188.0  23.88\n",
       "11    Freddie_Bynum  BAL         Outfielder      73   180.0  26.96\n",
       "12    Nick_Markakis  BAL         Outfielder      74   185.0  23.29\n",
       "13    Brandon_Fahey  BAL         Outfielder      74   160.0  26.11\n",
       "14  Corey_Patterson  BAL         Outfielder      69   180.0  27.55\n",
       "15       Jay_Payton  BAL         Outfielder      70   185.0  34.27\n",
       "16      Jay_Gibbons  BAL  Designated_Hitter      72   197.0  30.00\n",
       "17      Erik_Bedard  BAL   Starting_Pitcher      73   189.0  27.99\n",
       "18      Hayden_Penn  BAL   Starting_Pitcher      75   185.0  22.38\n",
       "19      Adam_Loewen  BAL   Starting_Pitcher      78   219.0  22.89"
      ]
     },
     "execution_count": 5,
     "metadata": {},
     "output_type": "execute_result"
    }
   ],
   "source": [
    "df.head(20) # Top 20 rows"
   ]
  },
  {
   "cell_type": "code",
   "execution_count": 6,
   "metadata": {},
   "outputs": [
    {
     "data": {
      "text/plain": [
       "Age        28.736712\n",
       "Height     73.697292\n",
       "Weight    201.689255\n",
       "dtype: float64"
      ]
     },
     "execution_count": 6,
     "metadata": {},
     "output_type": "execute_result"
    }
   ],
   "source": [
    "df[['Age','Height','Weight']].mean() # mean of Age, Height and Weight\n"
   ]
  },
  {
   "cell_type": "markdown",
   "metadata": {},
   "source": [
    "Now let's focus on height, and compute standard deviation and variance: "
   ]
  },
  {
   "cell_type": "code",
   "execution_count": 7,
   "metadata": {},
   "outputs": [
    {
     "name": "stdout",
     "output_type": "stream",
     "text": [
      "[74, 74, 72, 72, 73, 69, 69, 71, 76, 71, 73, 73, 74, 74, 69, 70, 72, 73, 75, 78]\n"
     ]
    }
   ],
   "source": [
    "print(list(df['Height'])[:20]) # list of heights in inches First 20 players"
   ]
  },
  {
   "cell_type": "code",
   "execution_count": 8,
   "metadata": {},
   "outputs": [
    {
     "name": "stdout",
     "output_type": "stream",
     "text": [
      "Mean = 73.6972920696325\n",
      "Variance = 5.316798081118074\n",
      "Standard Deviation = 2.3058183105175645\n"
     ]
    }
   ],
   "source": [
    "mean = df['Height'].mean() # mean of heights\n",
    "var = df['Height'].var() # variance of heights\n",
    "std = df['Height'].std() # standard deviation of heights \n",
    "print(f\"Mean = {mean}\\nVariance = {var}\\nStandard Deviation = {std}\") # print the mean, variance and standard deviation"
   ]
  },
  {
   "cell_type": "markdown",
   "metadata": {},
   "source": [
    "In addition to mean, it makes sense to look at median value and quartiles. They can be visualized using **box plot**:"
   ]
  },
  {
   "cell_type": "code",
   "execution_count": 9,
   "metadata": {},
   "outputs": [
    {
     "data": {
      "image/png": "[encoded data removed]",
      "text/plain": [
       "<Figure size 720x144 with 1 Axes>"
      ]
     },
     "metadata": {
      "needs_background": "light"
     },
     "output_type": "display_data"
    }
   ],
   "source": [
    "plt.figure(figsize=(10,2)) # create a figure of size 10x2 inches\n",
    "plt.boxplot(df['Height'],vert=False,showmeans=True) # plot the boxplot of heights\n",
    "plt.grid(color='gray',linestyle='dotted') # add a grid\n",
    "plt.show() # show the plot\n"
   ]
  },
  {
   "cell_type": "markdown",
   "metadata": {},
   "source": [
    "We can also make box plots of subsets of our dataset, for example, grouped by player role."
   ]
  },
  {
   "cell_type": "code",
   "execution_count": 10,
   "metadata": {},
   "outputs": [
    {
     "data": {
      "image/png": "[encoded data removed]",
      "text/plain": [
       "<Figure size 432x288 with 1 Axes>"
      ]
     },
     "metadata": {
      "needs_background": "light"
     },
     "output_type": "display_data"
    }
   ],
   "source": [
    "df.boxplot(column='Height',by='Role') # plot the boxplot of heights by Role\n",
    "plt.xticks(rotation='vertical') # rotate the x-axis labels\n",
    "plt.show() # show the plot"
   ]
  },
  {
   "cell_type": "markdown",
   "metadata": {},
   "source": [
    "> **Note**: This diagram suggests, that on average, height of first basemen is higher that height of second basemen. Later we will learn how we can test this hypothesis more formally, and how to demonstrate that our data is statistically significant to show that.  \n",
    "\n",
    "Age, height and weight are all continuous random variables. What do you think their distribution is? A good way to find out is to plot the histogram of values: "
   ]
  },
  {
   "cell_type": "code",
   "execution_count": 11,
   "metadata": {},
   "outputs": [
    {
     "data": {
      "image/png": "[encoded data removed]",
      "text/plain": [
       "<Figure size 432x288 with 1 Axes>"
      ]
     },
     "metadata": {
      "needs_background": "light"
     },
     "output_type": "display_data"
    }
   ],
   "source": [
    "df['Weight'].hist(bins=15) # plot the histogram of weights\n",
    "plt.suptitle('Weight distribution of MLB Players') # add a title\n",
    "plt.xlabel('Weight') # add x-axis label\n",
    "plt.ylabel('Count') # add y-axis label\n",
    "plt.show()"
   ]
  },
  {
   "cell_type": "markdown",
   "metadata": {},
   "source": [
    "## Normal Distribution\n",
    "\n",
    "Let's create an artificial sample of weights that follows normal distribution with the same mean and variance as real data:"
   ]
  },
  {
   "cell_type": "code",
   "execution_count": 12,
   "metadata": {},
   "outputs": [
    {
     "data": {
      "text/plain": [
       "array([74.71821966, 71.39646033, 71.87719157, 69.52795555, 75.89212829,\n",
       "       75.37491699, 72.0797247 , 76.06059973, 72.39872078, 73.22196971,\n",
       "       77.00905088, 71.93668183, 76.16263228, 75.87138476, 74.30759409,\n",
       "       75.56145976, 72.81791796, 77.39145929, 70.18581288, 73.58163779])"
      ]
     },
     "execution_count": 12,
     "metadata": {},
     "output_type": "execute_result"
    }
   ],
   "source": [
    "generated = np.random.normal(mean,std,1000) # generate 1000 random numbers with mean and standard deviation\n",
    "generated[:20] # first 20 numbers"
   ]
  },
  {
   "cell_type": "code",
   "execution_count": 13,
   "metadata": {},
   "outputs": [
    {
     "data": {
      "image/png": "[encoded data removed]",
      "text/plain": [
       "<Figure size 432x288 with 1 Axes>"
      ]
     },
     "metadata": {
      "needs_background": "light"
     },
     "output_type": "display_data"
    }
   ],
   "source": [
    "plt.hist(generated,bins=15) # plot the histogram of generated numbers\n",
    "plt.show() # show the plot "
   ]
  },
  {
   "cell_type": "code",
   "execution_count": 14,
   "metadata": {},
   "outputs": [
    {
     "data": {
      "image/png": "[encoded data removed]",
      "text/plain": [
       "<Figure size 432x288 with 1 Axes>"
      ]
     },
     "metadata": {
      "needs_background": "light"
     },
     "output_type": "display_data"
    }
   ],
   "source": [
    "plt.hist(np.random.normal(0,1,50000),bins=300) # plot the histogram of generated numbers with 50000 samples and 300 bins \n",
    "plt.show()"
   ]
  },
  {
   "cell_type": "markdown",
   "metadata": {},
   "source": [
    "Since most values in real life are normally distributed, it means we should not use uniform random number generator to generate sample data. Here is what happens if we try to generate weights with uniform distribution (generated by `np.random.rand`):"
   ]
  },
  {
   "cell_type": "code",
   "execution_count": 15,
   "metadata": {},
   "outputs": [
    {
     "data": {
      "image/png": "[encoded data removed]",
      "text/plain": [
       "<Figure size 432x288 with 1 Axes>"
      ]
     },
     "metadata": {
      "needs_background": "light"
     },
     "output_type": "display_data"
    }
   ],
   "source": [
    "wrong_sample = np.random.rand(1000)*2*std+mean-std\n",
    "plt.hist(wrong_sample)\n",
    "plt.show()"
   ]
  },
  {
   "cell_type": "markdown",
   "metadata": {},
   "source": [
    "## Confidence Intervals\n",
    "\n",
    "Let's now calculate confidence intervals for the weights and heights of baseball players. We will use the code [from this stackoverflow discussion](https://stackoverflow.com/questions/15033511/compute-a-confidence-interval-from-sample-data):"
   ]
  },
  {
   "cell_type": "code",
   "execution_count": 16,
   "metadata": {},
   "outputs": [
    {
     "name": "stdout",
     "output_type": "stream",
     "text": [
      "p=0.85, mean = 201.73±0.94\n",
      "p=0.90, mean = 201.73±1.08\n",
      "p=0.95, mean = 201.73±1.28\n"
     ]
    }
   ],
   "source": [
    "import scipy.stats\n",
    "\n",
    "def mean_confidence_interval(data, confidence=0.95): # calculate the mean and confidence interval\n",
    "    a = 1.0 * np.array(data)\n",
    "    n = len(a)\n",
    "    m, se = np.mean(a), scipy.stats.sem(a)\n",
    "    h = se * scipy.stats.t.ppf((1 + confidence) / 2., n-1)\n",
    "    return m, h\n",
    "\n",
    "for p in [0.85, 0.9, 0.95]:\n",
    "    m, h = mean_confidence_interval(df['Weight'].fillna(method='pad'),p)\n",
    "    print(f\"p={p:.2f}, mean = {m:.2f}±{h:.2f}\")"
   ]
  },
  {
   "cell_type": "markdown",
   "metadata": {},
   "source": [
    "## Hypothesis Testing\n",
    "\n",
    "Let's explore different roles in our baseball players dataset:"
   ]
  },
  {
   "cell_type": "code",
   "execution_count": 17,
   "metadata": {},
   "outputs": [
    {
     "data": {
      "text/html": [
       "<div>\n",
       "<style scoped>\n",
       "    .dataframe tbody tr th:only-of-type {\n",
       "        vertical-align: middle;\n",
       "    }\n",
       "\n",
       "    .dataframe tbody tr th {\n",
       "        vertical-align: top;\n",
       "    }\n",
       "\n",
       "    .dataframe thead th {\n",
       "        text-align: right;\n",
       "    }\n",
       "</style>\n",
       "<table border=\"1\" class=\"dataframe\">\n",
       "  <thead>\n",
       "    <tr style=\"text-align: right;\">\n",
       "      <th></th>\n",
       "      <th>Height</th>\n",
       "      <th>Weight</th>\n",
       "      <th>Count</th>\n",
       "    </tr>\n",
       "    <tr>\n",
       "      <th>Role</th>\n",
       "      <th></th>\n",
       "      <th></th>\n",
       "      <th></th>\n",
       "    </tr>\n",
       "  </thead>\n",
       "  <tbody>\n",
       "    <tr>\n",
       "      <th>Catcher</th>\n",
       "      <td>72.723684</td>\n",
       "      <td>204.328947</td>\n",
       "      <td>76</td>\n",
       "    </tr>\n",
       "    <tr>\n",
       "      <th>Designated_Hitter</th>\n",
       "      <td>74.222222</td>\n",
       "      <td>220.888889</td>\n",
       "      <td>18</td>\n",
       "    </tr>\n",
       "    <tr>\n",
       "      <th>First_Baseman</th>\n",
       "      <td>74.000000</td>\n",
       "      <td>213.109091</td>\n",
       "      <td>55</td>\n",
       "    </tr>\n",
       "    <tr>\n",
       "      <th>Outfielder</th>\n",
       "      <td>73.010309</td>\n",
       "      <td>199.113402</td>\n",
       "      <td>194</td>\n",
       "    </tr>\n",
       "    <tr>\n",
       "      <th>Relief_Pitcher</th>\n",
       "      <td>74.374603</td>\n",
       "      <td>203.517460</td>\n",
       "      <td>315</td>\n",
       "    </tr>\n",
       "    <tr>\n",
       "      <th>Second_Baseman</th>\n",
       "      <td>71.362069</td>\n",
       "      <td>184.344828</td>\n",
       "      <td>58</td>\n",
       "    </tr>\n",
       "    <tr>\n",
       "      <th>Shortstop</th>\n",
       "      <td>71.903846</td>\n",
       "      <td>182.923077</td>\n",
       "      <td>52</td>\n",
       "    </tr>\n",
       "    <tr>\n",
       "      <th>Starting_Pitcher</th>\n",
       "      <td>74.719457</td>\n",
       "      <td>205.163636</td>\n",
       "      <td>221</td>\n",
       "    </tr>\n",
       "    <tr>\n",
       "      <th>Third_Baseman</th>\n",
       "      <td>73.044444</td>\n",
       "      <td>200.955556</td>\n",
       "      <td>45</td>\n",
       "    </tr>\n",
       "  </tbody>\n",
       "</table>\n",
       "</div>"
      ],
      "text/plain": [
       "                      Height      Weight  Count\n",
       "Role                                           \n",
       "Catcher            72.723684  204.328947     76\n",
       "Designated_Hitter  74.222222  220.888889     18\n",
       "First_Baseman      74.000000  213.109091     55\n",
       "Outfielder         73.010309  199.113402    194\n",
       "Relief_Pitcher     74.374603  203.517460    315\n",
       "Second_Baseman     71.362069  184.344828     58\n",
       "Shortstop          71.903846  182.923077     52\n",
       "Starting_Pitcher   74.719457  205.163636    221\n",
       "Third_Baseman      73.044444  200.955556     45"
      ]
     },
     "execution_count": 17,
     "metadata": {},
     "output_type": "execute_result"
    }
   ],
   "source": [
    "df.groupby('Role').agg({ 'Height' : 'mean', 'Weight' : 'mean', 'Age' : 'count'}).rename(columns={ 'Age' : 'Count'})"
   ]
  },
  {
   "cell_type": "markdown",
   "metadata": {},
   "source": [
    "Let's test the hypothesis that First Basemen are higher then Second Basemen. The simplest way to do it is to test the confidence intervals:"
   ]
  },
  {
   "cell_type": "code",
   "execution_count": 18,
   "metadata": {},
   "outputs": [
    {
     "name": "stdout",
     "output_type": "stream",
     "text": [
      "Conf=0.85, 1st basemen height: 73.62..74.38, 2nd basemen height: 71.04..71.69\n",
      "Conf=0.90, 1st basemen height: 73.56..74.44, 2nd basemen height: 70.99..71.73\n",
      "Conf=0.95, 1st basemen height: 73.47..74.53, 2nd basemen height: 70.92..71.81\n"
     ]
    }
   ],
   "source": [
    "for p in [0.85,0.9,0.95]:\n",
    "    m1, h1 = mean_confidence_interval(df.loc[df['Role']=='First_Baseman',['Height']],p)\n",
    "    m2, h2 = mean_confidence_interval(df.loc[df['Role']=='Second_Baseman',['Height']],p)\n",
    "    print(f'Conf={p:.2f}, 1st basemen height: {m1-h1[0]:.2f}..{m1+h1[0]:.2f}, 2nd basemen height: {m2-h2[0]:.2f}..{m2+h2[0]:.2f}')"
   ]
  },
  {
   "cell_type": "markdown",
   "metadata": {},
   "source": [
    "We can see that intervals do not overlap.\n",
    "\n",
    "More statistically correct way to prove the hypothesis is to use **Student t-test**:"
   ]
  },
  {
   "cell_type": "code",
   "execution_count": 19,
   "metadata": {},
   "outputs": [
    {
     "name": "stdout",
     "output_type": "stream",
     "text": [
      "T-value = 7.65\n",
      "P-value: 9.137321189738925e-12\n"
     ]
    }
   ],
   "source": [
    "from scipy.stats import ttest_ind\n",
    "\n",
    "tval, pval = ttest_ind(df.loc[df['Role']=='First_Baseman',['Height']], df.loc[df['Role']=='Second_Baseman',['Height']],equal_var=False)\n",
    "print(f\"T-value = {tval[0]:.2f}\\nP-value: {pval[0]}\")"
   ]
  },
  {
   "cell_type": "markdown",
   "metadata": {},
   "source": [
    "Two values returned by the `ttest_ind` functions are:\n",
    "* p-value can be considered as the probability of two distributions having the same mean. In our case, it is very low, meaning that there is strong evidence supporting that first basemen are taller\n",
    "* t-value is the intermediate value of normalized mean difference that is used in t-test, and it is compared against threshold value for a given confidence value "
   ]
  },
  {
   "cell_type": "markdown",
   "metadata": {},
   "source": [
    "## Simulating Normal Distribution with Central Limit Theorem\n",
    "\n",
    "Pseudo-random generator in Python is designed to give us uniform distribution. If we want to create a generator for normal distribution, we can use central limit theorem. To get a normally distributed value we will just compute a mean of a uniform-generated sample."
   ]
  },
  {
   "cell_type": "code",
   "execution_count": 20,
   "metadata": {},
   "outputs": [
    {
     "data": {
      "image/png": "[encoded data removed]",
      "text/plain": [
       "<Figure size 432x288 with 1 Axes>"
      ]
     },
     "metadata": {
      "needs_background": "light"
     },
     "output_type": "display_data"
    }
   ],
   "source": [
    "def normal_random(sample_size=100):\n",
    "    sample = [random.uniform(0,1) for _ in range(sample_size) ]\n",
    "    return sum(sample)/sample_size\n",
    "\n",
    "sample = [normal_random() for _ in range(100)]\n",
    "plt.hist(sample)\n",
    "plt.show()"
   ]
  },
  {
   "cell_type": "markdown",
   "metadata": {},
   "source": [
    "## Correlation and Evil Baseball Corp\n",
    "\n",
    "Correlation allows us to find inner connection between data sequences. In our toy example, let's pretend there is an evil baseball corporation that pays it's players according to their height - the taller the player is, the more money he/she gets. Suppose there is a base salary of $1000, and an additional bonus from $0 to $100, depending on height. We will take the real players from MLB, and compute their imaginary salaries:"
   ]
  },
  {
   "cell_type": "code",
   "execution_count": 21,
   "metadata": {},
   "outputs": [
    {
     "name": "stdout",
     "output_type": "stream",
     "text": [
      "[(74, 1075.2469071629068), (74, 1075.2469071629068), (72, 1053.7477908306478), (72, 1053.7477908306478), (73, 1064.4973489967772), (69, 1021.4991163322591), (69, 1021.4991163322591), (71, 1042.9982326645181), (76, 1096.746023495166), (71, 1042.9982326645181)]\n"
     ]
    }
   ],
   "source": [
    "heights = df['Height']\n",
    "salaries = 1000+(heights-heights.min())/(heights.max()-heights.mean())*100\n",
    "print(list(zip(heights,salaries))[:10])"
   ]
  },
  {
   "cell_type": "markdown",
   "metadata": {},
   "source": [
    "Let's now compute covariance and correlation of those sequences. `np.cov` will give us so-called **covariance matrix**, which is an extension of covariance to multiple variables. The element $M_{ij}$ of the covariance matrix $M$ is a correlation between input variables $X_i$ and $X_j$, and diagonal values $M_{ii}$ is the variance of $X_{i}$. Similarly, `np.corrcoef` will give us **correlation matrix**."
   ]
  },
  {
   "cell_type": "code",
   "execution_count": 22,
   "metadata": {},
   "outputs": [
    {
     "name": "stdout",
     "output_type": "stream",
     "text": [
      "Covariance matrix:\n",
      "[[  5.31679808  57.15323023]\n",
      " [ 57.15323023 614.37197275]]\n",
      "Covariance = 57.153230230544644\n",
      "Correlation = 1.0\n"
     ]
    }
   ],
   "source": [
    "print(f\"Covariance matrix:\\n{np.cov(heights,salaries)}\")\n",
    "print(f\"Covariance = {np.cov(heights,salaries)[0,1]}\")\n",
    "print(f\"Correlation = {np.corrcoef(heights,salaries)[0,1]}\")"
   ]
  },
  {
   "cell_type": "markdown",
   "metadata": {},
   "source": [
    "Correlation equal to 1 means that there is a strong **linear relation** between two variables. We can visually see the linear relation by plotting one value against the other:"
   ]
  },
  {
   "cell_type": "code",
   "execution_count": 23,
   "metadata": {},
   "outputs": [
    {
     "data": {
      "image/png": "[encoded data removed]",
      "text/plain": [
       "<Figure size 432x288 with 1 Axes>"
      ]
     },
     "metadata": {
      "needs_background": "light"
     },
     "output_type": "display_data"
    }
   ],
   "source": [
    "plt.scatter(heights,salaries)\n",
    "plt.show()"
   ]
  },
  {
   "cell_type": "markdown",
   "metadata": {},
   "source": [
    "Let's see what happens if the relation is not linear. Suppose that our corporation decided to hide the obvious linear dependency between heights and salaries, and introduced some non-linearity into the formula, such as `sin`:"
   ]
  },
  {
   "cell_type": "code",
   "execution_count": 24,
   "metadata": {},
   "outputs": [
    {
     "name": "stdout",
     "output_type": "stream",
     "text": [
      "Correlation = 0.9835304456670814\n"
     ]
    }
   ],
   "source": [
    "salaries = 1000+np.sin((heights-heights.min())/(heights.max()-heights.mean()))*100\n",
    "print(f\"Correlation = {np.corrcoef(heights,salaries)[0,1]}\")"
   ]
  },
  {
   "cell_type": "markdown",
   "metadata": {},
   "source": [
    "In this case, the correlation is slightly smaller, but it is still quite high. Now, to make the relation even less obvious, we might want to add some extra randomness by adding some random variable to the salary. Let's see what happens:"
   ]
  },
  {
   "cell_type": "code",
   "execution_count": 25,
   "metadata": {},
   "outputs": [
    {
     "name": "stdout",
     "output_type": "stream",
     "text": [
      "Correlation = 0.9356328843754413\n"
     ]
    }
   ],
   "source": [
    "salaries = 1000+np.sin((heights-heights.min())/(heights.max()-heights.mean()))*100+np.random.random(size=len(heights))*20-10\n",
    "print(f\"Correlation = {np.corrcoef(heights,salaries)[0,1]}\")"
   ]
  },
  {
   "cell_type": "code",
   "execution_count": 26,
   "metadata": {},
   "outputs": [
    {
     "data": {
      "image/png": "[encoded data removed]",
      "text/plain": [
       "<Figure size 432x288 with 1 Axes>"
      ]
     },
     "metadata": {
      "needs_background": "light"
     },
     "output_type": "display_data"
    }
   ],
   "source": [
    "plt.scatter(heights, salaries)\n",
    "plt.show()"
   ]
  },
  {
   "cell_type": "markdown",
   "metadata": {},
   "source": [
    "> Can you guess why the dots line up into vertical lines like this?\n",
    "\n",
    "We have observed the correlation between artificially engineered concept like salary and the observed variable *height*. Let's also see if the two observed variables, such as height and weight, also correlate:"
   ]
  },
  {
   "cell_type": "code",
   "execution_count": 27,
   "metadata": {},
   "outputs": [
    {
     "data": {
      "text/plain": [
       "array([[ 1., nan],\n",
       "       [nan, nan]])"
      ]
     },
     "execution_count": 27,
     "metadata": {},
     "output_type": "execute_result"
    }
   ],
   "source": [
    "np.corrcoef(df['Height'],df['Weight'])"
   ]
  },
  {
   "cell_type": "markdown",
   "metadata": {},
   "source": [
    "Unfortunately, we did not get any results - only some strange `nan` values. This is due to the fact that some of the values in our series are undefined, represented as `nan`, which causes the result of the operation to be undefined as well. By looking at the matrix we can see that `Weight` is problematic column, because self-correlation between `Height` values has been computed.\n",
    "\n",
    "> This example shows the importance of **data preparation** and **cleaning**. Without proper data we cannot compute anything.\n",
    "\n",
    "Let's use `fillna` method to fill the missing values, and compute the correlation: "
   ]
  },
  {
   "cell_type": "code",
   "execution_count": 28,
   "metadata": {},
   "outputs": [
    {
     "data": {
      "text/plain": [
       "array([[1.        , 0.52959196],\n",
       "       [0.52959196, 1.        ]])"
      ]
     },
     "execution_count": 28,
     "metadata": {},
     "output_type": "execute_result"
    }
   ],
   "source": [
    "np.corrcoef(df['Height'],df['Weight'].fillna(method='pad'))"
   ]
  },
  {
   "cell_type": "markdown",
   "metadata": {},
   "source": [
    "The is indeed a correlation, but not such a strong one as in our artificial example. Indeed, if we look at the scatter plot of one value against the other, the relation would be much less obvious:"
   ]
  },
  {
   "cell_type": "code",
   "execution_count": 29,
   "metadata": {},
   "outputs": [
    {
     "data": {
      "image/png": "[encoded data removed]",
      "text/plain": [
       "<Figure size 432x288 with 1 Axes>"
      ]
     },
     "metadata": {
      "needs_background": "light"
     },
     "output_type": "display_data"
    }
   ],
   "source": [
    "plt.scatter(df['Height'],df['Weight'])\n",
    "plt.xlabel('Height')\n",
    "plt.ylabel('Weight')\n",
    "plt.show()"
   ]
  },
  {
   "cell_type": "markdown",
   "metadata": {},
   "source": [
    "## Conclusion\n",
    "\n",
    "In this notebook, we have learnt how to perform basic operations on data to compute statistical functions. We now know how to use sound apparatus of math and statistics in order to prove some hypotheses, and how to compute confidence intervals for random variable given data sample. "
   ]
  },
  {
   "cell_type": "markdown",
   "metadata": {},
   "source": [
    "Use the sample code in the notebook to test other hypothesis that:\n",
    "\n",
    "First basemen and older that second basemen\n",
    "\n",
    "First basemen and taller than third basemen\n",
    "\n",
    "Shortstops are taller than second basemen"
   ]
  },
  {
   "cell_type": "code",
   "execution_count": 33,
   "metadata": {},
   "outputs": [
    {
     "data": {
      "text/html": [
       "<div>\n",
       "<style scoped>\n",
       "    .dataframe tbody tr th:only-of-type {\n",
       "        vertical-align: middle;\n",
       "    }\n",
       "\n",
       "    .dataframe tbody tr th {\n",
       "        vertical-align: top;\n",
       "    }\n",
       "\n",
       "    .dataframe thead th {\n",
       "        text-align: right;\n",
       "    }\n",
       "</style>\n",
       "<table border=\"1\" class=\"dataframe\">\n",
       "  <thead>\n",
       "    <tr style=\"text-align: right;\">\n",
       "      <th></th>\n",
       "      <th>Name</th>\n",
       "      <th>Team</th>\n",
       "      <th>Role</th>\n",
       "      <th>Height</th>\n",
       "      <th>Weight</th>\n",
       "      <th>Age</th>\n",
       "    </tr>\n",
       "  </thead>\n",
       "  <tbody>\n",
       "    <tr>\n",
       "      <th>0</th>\n",
       "      <td>Adam_Donachie</td>\n",
       "      <td>BAL</td>\n",
       "      <td>Catcher</td>\n",
       "      <td>74</td>\n",
       "      <td>180.0</td>\n",
       "      <td>22.99</td>\n",
       "    </tr>\n",
       "    <tr>\n",
       "      <th>1</th>\n",
       "      <td>Paul_Bako</td>\n",
       "      <td>BAL</td>\n",
       "      <td>Catcher</td>\n",
       "      <td>74</td>\n",
       "      <td>215.0</td>\n",
       "      <td>34.69</td>\n",
       "    </tr>\n",
       "    <tr>\n",
       "      <th>2</th>\n",
       "      <td>Ramon_Hernandez</td>\n",
       "      <td>BAL</td>\n",
       "      <td>Catcher</td>\n",
       "      <td>72</td>\n",
       "      <td>210.0</td>\n",
       "      <td>30.78</td>\n",
       "    </tr>\n",
       "    <tr>\n",
       "      <th>3</th>\n",
       "      <td>Kevin_Millar</td>\n",
       "      <td>BAL</td>\n",
       "      <td>First_Baseman</td>\n",
       "      <td>72</td>\n",
       "      <td>210.0</td>\n",
       "      <td>35.43</td>\n",
       "    </tr>\n",
       "    <tr>\n",
       "      <th>4</th>\n",
       "      <td>Chris_Gomez</td>\n",
       "      <td>BAL</td>\n",
       "      <td>First_Baseman</td>\n",
       "      <td>73</td>\n",
       "      <td>188.0</td>\n",
       "      <td>35.71</td>\n",
       "    </tr>\n",
       "    <tr>\n",
       "      <th>5</th>\n",
       "      <td>Brian_Roberts</td>\n",
       "      <td>BAL</td>\n",
       "      <td>Second_Baseman</td>\n",
       "      <td>69</td>\n",
       "      <td>176.0</td>\n",
       "      <td>29.39</td>\n",
       "    </tr>\n",
       "    <tr>\n",
       "      <th>6</th>\n",
       "      <td>Miguel_Tejada</td>\n",
       "      <td>BAL</td>\n",
       "      <td>Shortstop</td>\n",
       "      <td>69</td>\n",
       "      <td>209.0</td>\n",
       "      <td>30.77</td>\n",
       "    </tr>\n",
       "    <tr>\n",
       "      <th>7</th>\n",
       "      <td>Melvin_Mora</td>\n",
       "      <td>BAL</td>\n",
       "      <td>Third_Baseman</td>\n",
       "      <td>71</td>\n",
       "      <td>200.0</td>\n",
       "      <td>35.07</td>\n",
       "    </tr>\n",
       "    <tr>\n",
       "      <th>8</th>\n",
       "      <td>Aubrey_Huff</td>\n",
       "      <td>BAL</td>\n",
       "      <td>Third_Baseman</td>\n",
       "      <td>76</td>\n",
       "      <td>231.0</td>\n",
       "      <td>30.19</td>\n",
       "    </tr>\n",
       "    <tr>\n",
       "      <th>9</th>\n",
       "      <td>Adam_Stern</td>\n",
       "      <td>BAL</td>\n",
       "      <td>Outfielder</td>\n",
       "      <td>71</td>\n",
       "      <td>180.0</td>\n",
       "      <td>27.05</td>\n",
       "    </tr>\n",
       "    <tr>\n",
       "      <th>10</th>\n",
       "      <td>Jeff_Fiorentino</td>\n",
       "      <td>BAL</td>\n",
       "      <td>Outfielder</td>\n",
       "      <td>73</td>\n",
       "      <td>188.0</td>\n",
       "      <td>23.88</td>\n",
       "    </tr>\n",
       "    <tr>\n",
       "      <th>11</th>\n",
       "      <td>Freddie_Bynum</td>\n",
       "      <td>BAL</td>\n",
       "      <td>Outfielder</td>\n",
       "      <td>73</td>\n",
       "      <td>180.0</td>\n",
       "      <td>26.96</td>\n",
       "    </tr>\n",
       "    <tr>\n",
       "      <th>12</th>\n",
       "      <td>Nick_Markakis</td>\n",
       "      <td>BAL</td>\n",
       "      <td>Outfielder</td>\n",
       "      <td>74</td>\n",
       "      <td>185.0</td>\n",
       "      <td>23.29</td>\n",
       "    </tr>\n",
       "    <tr>\n",
       "      <th>13</th>\n",
       "      <td>Brandon_Fahey</td>\n",
       "      <td>BAL</td>\n",
       "      <td>Outfielder</td>\n",
       "      <td>74</td>\n",
       "      <td>160.0</td>\n",
       "      <td>26.11</td>\n",
       "    </tr>\n",
       "    <tr>\n",
       "      <th>14</th>\n",
       "      <td>Corey_Patterson</td>\n",
       "      <td>BAL</td>\n",
       "      <td>Outfielder</td>\n",
       "      <td>69</td>\n",
       "      <td>180.0</td>\n",
       "      <td>27.55</td>\n",
       "    </tr>\n",
       "    <tr>\n",
       "      <th>15</th>\n",
       "      <td>Jay_Payton</td>\n",
       "      <td>BAL</td>\n",
       "      <td>Outfielder</td>\n",
       "      <td>70</td>\n",
       "      <td>185.0</td>\n",
       "      <td>34.27</td>\n",
       "    </tr>\n",
       "    <tr>\n",
       "      <th>16</th>\n",
       "      <td>Jay_Gibbons</td>\n",
       "      <td>BAL</td>\n",
       "      <td>Designated_Hitter</td>\n",
       "      <td>72</td>\n",
       "      <td>197.0</td>\n",
       "      <td>30.00</td>\n",
       "    </tr>\n",
       "    <tr>\n",
       "      <th>17</th>\n",
       "      <td>Erik_Bedard</td>\n",
       "      <td>BAL</td>\n",
       "      <td>Starting_Pitcher</td>\n",
       "      <td>73</td>\n",
       "      <td>189.0</td>\n",
       "      <td>27.99</td>\n",
       "    </tr>\n",
       "    <tr>\n",
       "      <th>18</th>\n",
       "      <td>Hayden_Penn</td>\n",
       "      <td>BAL</td>\n",
       "      <td>Starting_Pitcher</td>\n",
       "      <td>75</td>\n",
       "      <td>185.0</td>\n",
       "      <td>22.38</td>\n",
       "    </tr>\n",
       "    <tr>\n",
       "      <th>19</th>\n",
       "      <td>Adam_Loewen</td>\n",
       "      <td>BAL</td>\n",
       "      <td>Starting_Pitcher</td>\n",
       "      <td>78</td>\n",
       "      <td>219.0</td>\n",
       "      <td>22.89</td>\n",
       "    </tr>\n",
       "  </tbody>\n",
       "</table>\n",
       "</div>"
      ],
      "text/plain": [
       "               Name Team               Role  Height  Weight    Age\n",
       "0     Adam_Donachie  BAL            Catcher      74   180.0  22.99\n",
       "1         Paul_Bako  BAL            Catcher      74   215.0  34.69\n",
       "2   Ramon_Hernandez  BAL            Catcher      72   210.0  30.78\n",
       "3      Kevin_Millar  BAL      First_Baseman      72   210.0  35.43\n",
       "4       Chris_Gomez  BAL      First_Baseman      73   188.0  35.71\n",
       "5     Brian_Roberts  BAL     Second_Baseman      69   176.0  29.39\n",
       "6     Miguel_Tejada  BAL          Shortstop      69   209.0  30.77\n",
       "7       Melvin_Mora  BAL      Third_Baseman      71   200.0  35.07\n",
       "8       Aubrey_Huff  BAL      Third_Baseman      76   231.0  30.19\n",
       "9        Adam_Stern  BAL         Outfielder      71   180.0  27.05\n",
       "10  Jeff_Fiorentino  BAL         Outfielder      73   188.0  23.88\n",
       "11    Freddie_Bynum  BAL         Outfielder      73   180.0  26.96\n",
       "12    Nick_Markakis  BAL         Outfielder      74   185.0  23.29\n",
       "13    Brandon_Fahey  BAL         Outfielder      74   160.0  26.11\n",
       "14  Corey_Patterson  BAL         Outfielder      69   180.0  27.55\n",
       "15       Jay_Payton  BAL         Outfielder      70   185.0  34.27\n",
       "16      Jay_Gibbons  BAL  Designated_Hitter      72   197.0  30.00\n",
       "17      Erik_Bedard  BAL   Starting_Pitcher      73   189.0  27.99\n",
       "18      Hayden_Penn  BAL   Starting_Pitcher      75   185.0  22.38\n",
       "19      Adam_Loewen  BAL   Starting_Pitcher      78   219.0  22.89"
      ]
     },
     "execution_count": 33,
     "metadata": {},
     "output_type": "execute_result"
    }
   ],
   "source": [
    "#First basemen are older than second basemen\n",
    "df.head(20)"
   ]
  },
  {
   "cell_type": "code",
   "execution_count": 35,
   "metadata": {},
   "outputs": [
    {
     "name": "stdout",
     "output_type": "stream",
     "text": [
      "Conf=0.85, 1st basemen height: 73.62..74.38, 2nd basemen height: 71.04..71.69\n",
      "Conf=0.90, 1st basemen height: 73.56..74.44, 2nd basemen height: 70.99..71.73\n",
      "Conf=0.95, 1st basemen height: 73.47..74.53, 2nd basemen height: 70.92..71.81\n"
     ]
    }
   ],
   "source": [
    "for p in [0.85,0.9,0.95]:\n",
    "    m1, h1 = mean_confidence_interval(df.loc[df['Role']=='First_Baseman',['Height']],p)\n",
    "    m2, h2 = mean_confidence_interval(df.loc[df['Role']=='Second_Baseman',['Height']],p)\n",
    "    print(f'Conf={p:.2f}, 1st basemen height: {m1-h1[0]:.2f}..{m1+h1[0]:.2f}, 2nd basemen height: {m2-h2[0]:.2f}..{m2+h2[0]:.2f}')"
   ]
  },
  {
   "cell_type": "code",
   "execution_count": 36,
   "metadata": {},
   "outputs": [
    {
     "name": "stdout",
     "output_type": "stream",
     "text": [
      "T-value = 7.65\n",
      "P-value: 9.137321189738925e-12\n"
     ]
    }
   ],
   "source": [
    "from scipy.stats import ttest_ind\n",
    "\n",
    "tval, pval = ttest_ind(df.loc[df['Role']=='First_Baseman',['Height']], df.loc[df['Role']=='Second_Baseman',['Height']],equal_var=False)\n",
    "print(f\"T-value = {tval[0]:.2f}\\nP-value: {pval[0]}\")"
   ]
  },
  {
   "cell_type": "code",
   "execution_count": 34,
   "metadata": {},
   "outputs": [
    {
     "name": "stdout",
     "output_type": "stream",
     "text": [
      "Conf=0.85, 1st basemen age: 28.56..30.39, 2nd basemen age: 28.18..29.87\n",
      "Conf=0.90, 1st basemen age: 28.42..30.53, 2nd basemen age: 28.06..29.99\n",
      "Conf=0.95, 1st basemen age: 28.22..30.73, 2nd basemen age: 27.87..30.18\n"
     ]
    }
   ],
   "source": [
    "#First basemen are older than second basemen\n",
    "for p in [0.85, 0.9, 0.95]:\n",
    "    m1, h1 = mean_confidence_interval(df.loc[df['Role']=='First_Baseman',['Age']],p)\n",
    "    m2, h2 = mean_confidence_interval(df.loc[df['Role']=='Second_Baseman',['Age']],p)\n",
    "    print(f'Conf={p:.2f}, 1st basemen age: {m1-h1[0]:.2f}..{m1+h1[0]:.2f}, 2nd basemen age: {m2-h2[0]:.2f}..{m2+h2[0]:.2f}')"
   ]
  },
  {
   "cell_type": "code",
   "execution_count": 37,
   "metadata": {},
   "outputs": [
    {
     "name": "stdout",
     "output_type": "stream",
     "text": [
      "T-value = 0.53\n",
      "P-value: 0.6005513264471434\n"
     ]
    }
   ],
   "source": [
    "from scipy.stats import ttest_ind\n",
    "\n",
    "tval, pval = ttest_ind(df.loc[df['Role']=='First_Baseman',['Age']], df.loc[df['Role']=='Second_Baseman',['Age']],equal_var=False)\n",
    "print(f\"T-value = {tval[0]:.2f}\\nP-value: {pval[0]}\")"
   ]
  },
  {
   "cell_type": "markdown",
   "metadata": {},
   "source": []
  }
 ],
 "metadata": {
  "interpreter": {
   "hash": "86193a1ab0ba47eac1c69c1756090baa3b420b3eea7d4aafab8b85f8b312f0c5"
  },
  "kernelspec": {
   "display_name": "Python 3.8.8 64-bit (conda)",
   "name": "python3"
  },
  "language_info": {
   "codemirror_mode": {
    "name": "ipython",
    "version": 3
   },
   "file_extension": ".py",
   "mimetype": "text/x-python",
   "name": "python",
   "nbconvert_exporter": "python",
   "pygments_lexer": "ipython3",
   "version": "3.9.9"
  },
  "orig_nbformat": 4
 },
 "nbformat": 4,
 "nbformat_minor": 2
}
