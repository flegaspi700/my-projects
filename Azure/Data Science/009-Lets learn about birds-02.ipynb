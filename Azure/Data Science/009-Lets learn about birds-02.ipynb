{
 "cells": [
  {
   "cell_type": "code",
   "execution_count": null,
   "metadata": {},
   "outputs": [],
   "source": [
    "import pandas as pd\n",
    "import matplotlib.pyplot as plt\n",
    "\n",
    "birds = pd.read_csv('data/birds.csv')\n",
    "birds.head()\n",
    "\n",
    "plt.rcParams['figure.facecolor'] = 'white'"
   ]
  },
  {
   "cell_type": "code",
   "execution_count": null,
   "metadata": {},
   "outputs": [],
   "source": [
    "birds.plot(kind='scatter',x='MaxLength',y='Order',figsize=(12,8))\n",
    "\n",
    "plt.title('Max Length per Order')\n",
    "plt.ylabel('Order')\n",
    "plt.xlabel('Max Length')\n",
    "\n",
    "plt.show()"
   ]
  },
  {
   "cell_type": "code",
   "execution_count": null,
   "metadata": {},
   "outputs": [],
   "source": [
    "birds['MaxBodyMass'].plot(kind = 'hist', bins = 10, figsize = (12,12))\n",
    "plt.show()"
   ]
  },
  {
   "cell_type": "code",
   "execution_count": null,
   "metadata": {},
   "outputs": [],
   "source": [
    "birds['MaxBodyMass'].plot(kind = 'hist', bins = 30, figsize = (12,12))\n",
    "plt.show()"
   ]
  },
  {
   "cell_type": "code",
   "execution_count": null,
   "metadata": {},
   "outputs": [],
   "source": [
    "filteredBirds = birds[(birds['MaxBodyMass'] > 1) & (birds['MaxBodyMass'] < 60)]      \n",
    "filteredBirds['MaxBodyMass'].plot(kind = 'hist',bins = 40,figsize = (12,12))\n",
    "plt.show() "
   ]
  },
  {
   "cell_type": "code",
   "execution_count": null,
   "metadata": {},
   "outputs": [],
   "source": [
    "x = filteredBirds['MaxBodyMass']\n",
    "y = filteredBirds['MaxLength']\n",
    "\n",
    "fig, ax = plt.subplots(tight_layout=True)\n",
    "hist = ax.hist2d(x, y)\n",
    "\n"
   ]
  },
  {
   "cell_type": "code",
   "execution_count": null,
   "metadata": {},
   "outputs": [],
   "source": [
    "x1 = filteredBirds.loc[filteredBirds.ConservationStatus=='EX', 'MinWingspan']\n",
    "x2 = filteredBirds.loc[filteredBirds.ConservationStatus=='CR', 'MinWingspan']\n",
    "x3 = filteredBirds.loc[filteredBirds.ConservationStatus=='EN', 'MinWingspan']\n",
    "x4 = filteredBirds.loc[filteredBirds.ConservationStatus=='NT', 'MinWingspan']\n",
    "x5 = filteredBirds.loc[filteredBirds.ConservationStatus=='VU', 'MinWingspan']\n",
    "x6 = filteredBirds.loc[filteredBirds.ConservationStatus=='LC', 'MinWingspan']\n",
    "\n",
    "kwargs = dict(alpha=0.5, bins=20)\n",
    "\n",
    "plt.hist(x1, **kwargs, color='red', label='Extinct')\n",
    "plt.hist(x2, **kwargs, color='orange', label='Critically Endangered')\n",
    "plt.hist(x3, **kwargs, color='yellow', label='Endangered')\n",
    "plt.hist(x4, **kwargs, color='green', label='Near Threatened')\n",
    "plt.hist(x5, **kwargs, color='blue', label='Vulnerable')\n",
    "plt.hist(x6, **kwargs, color='gray', label='Least Concern')\n",
    "\n",
    "plt.gca().set(title='Conservation Status', ylabel='Max Body Mass')\n",
    "plt.legend();"
   ]
  }
 ],
 "metadata": {
  "interpreter": {
   "hash": "8f0e6e8876776058453f48ad7c7dcdebdb8994a74dd96d3c38b5ba45b7b9008d"
  },
  "kernelspec": {
   "display_name": "Python 3.9.1 64-bit",
   "language": "python",
   "name": "python3"
  },
  "language_info": {
   "codemirror_mode": {
    "name": "ipython",
    "version": 3
   },
   "file_extension": ".py",
   "mimetype": "text/x-python",
   "name": "python",
   "nbconvert_exporter": "python",
   "pygments_lexer": "ipython3",
   "version": "3.10.1"
  },
  "orig_nbformat": 4
 },
 "nbformat": 4,
 "nbformat_minor": 2
}
